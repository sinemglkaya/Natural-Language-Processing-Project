{
  "nbformat": 4,
  "nbformat_minor": 0,
  "metadata": {
    "colab": {
      "provenance": [],
      "toc_visible": true
    },
    "kernelspec": {
      "name": "python3",
      "display_name": "Python 3"
    },
    "language_info": {
      "name": "python"
    }
  },
  "cells": [
    {
      "cell_type": "code",
      "execution_count": null,
      "metadata": {
        "id": "a39FqQANaukj"
      },
      "outputs": [],
      "source": [
        "%cd /content/drive/MyDrive/research/PROJ201 20221/Detect English Text"
      ]
    },
    {
      "cell_type": "code",
      "source": [
        "import pandas as pd"
      ],
      "metadata": {
        "id": "L5d4XNJla-_B"
      },
      "execution_count": null,
      "outputs": []
    },
    {
      "cell_type": "code",
      "source": [
        "data = pd.read_csv('data/test/Politics/International politics_videos.csv')\n",
        "data"
      ],
      "metadata": {
        "id": "INk9_F3EbAu-"
      },
      "execution_count": null,
      "outputs": []
    },
    {
      "cell_type": "code",
      "source": [
        "!pip install google-api-python-client"
      ],
      "metadata": {
        "id": "CNYq03HfgPHz"
      },
      "execution_count": null,
      "outputs": []
    },
    {
      "cell_type": "code",
      "source": [
        "import googleapiclient.discovery"
      ],
      "metadata": {
        "id": "X_lqshL4gTjw"
      },
      "execution_count": null,
      "outputs": []
    },
    {
      "cell_type": "code",
      "source": [
        "def parse_JSON(response):\n",
        "    df_videos = pd.json_normalize(response['items'])\n",
        "    return df_videos"
      ],
      "metadata": {
        "id": "U4oC8-5Qfws1"
      },
      "execution_count": null,
      "outputs": []
    },
    {
      "cell_type": "code",
      "source": [
        "def extract_youtube_info(id):\n",
        "  api_service_name = \"youtube\"\n",
        "  api_version = \"v3\"\n",
        "  my_API_Key = \"\"\n",
        "  youtube = googleapiclient.discovery.build(api_service_name, api_version, developerKey = my_API_Key)\n",
        "  request = youtube.videos().list(part=\"snippet\",\n",
        "                                  id=id,\n",
        "                                  )\n",
        "  response = request.execute()\n",
        "  return parse_JSON(response)"
      ],
      "metadata": {
        "id": "A0mah8IWbTnV"
      },
      "execution_count": null,
      "outputs": []
    },
    {
      "cell_type": "code",
      "source": [
        "id = 'uczMaul5Kxs'\n",
        "tmp = extract_youtube_info(id)\n",
        "tmp"
      ],
      "metadata": {
        "id": "-f2xD15sfwMC"
      },
      "execution_count": null,
      "outputs": []
    },
    {
      "cell_type": "code",
      "source": [
        "tmp.loc[0, 'snippet.title']"
      ],
      "metadata": {
        "id": "xRft5IRigemw"
      },
      "execution_count": null,
      "outputs": []
    },
    {
      "cell_type": "code",
      "source": [
        "tmp.loc[0, 'snippet.description']"
      ],
      "metadata": {
        "id": "kdFUPfQGgnMJ"
      },
      "execution_count": null,
      "outputs": []
    },
    {
      "cell_type": "code",
      "source": [
        "!pip install langid"
      ],
      "metadata": {
        "id": "FrN6vntFgtvi"
      },
      "execution_count": null,
      "outputs": []
    },
    {
      "cell_type": "code",
      "source": [
        "import langid\n",
        "def langid_predict(txt):\n",
        "    pred = langid.classify(txt)[0]\n",
        "    if pred=='en':\n",
        "      return 'en'\n",
        "    else:\n",
        "      return 'non-en'"
      ],
      "metadata": {
        "id": "CttYFLFzhKwp"
      },
      "execution_count": null,
      "outputs": []
    },
    {
      "cell_type": "code",
      "source": [
        "langid_predict(tmp.loc[0, 'snippet.title'])"
      ],
      "metadata": {
        "id": "x4ohBS7phNsT"
      },
      "execution_count": null,
      "outputs": []
    },
    {
      "cell_type": "code",
      "source": [
        "langid_predict(tmp.loc[0, 'snippet.description'])"
      ],
      "metadata": {
        "id": "Yi9Vc4gthSjc"
      },
      "execution_count": null,
      "outputs": []
    },
    {
      "cell_type": "code",
      "source": [
        "import string\n",
        "def remove_punctuations(text):\n",
        "  new_text = ''\n",
        "  for ch in text:\n",
        "    if not (ch in string.punctuation):\n",
        "      new_text += ch\n",
        "  return new_text"
      ],
      "metadata": {
        "id": "VkNxZ5THiTBa"
      },
      "execution_count": null,
      "outputs": []
    },
    {
      "cell_type": "code",
      "source": [
        "import re\n",
        "def clean_tweets(tweet):\n",
        "  # Remove Emoji\n",
        "  # tweet = remove_emojis(tweet)\n",
        "  # Remove tags\n",
        "  tweet = re.sub(\"@[A-Za-z0-9_]+\",\"\", tweet)\n",
        "  # Remove hashtags\n",
        "  tweet = re.sub(\"#[A-Za-z0-9_]+\",\"\", tweet)\n",
        "  # Remove links\n",
        "  tweet = re.sub(r'http\\S+', '', tweet)\n",
        "  # Remove new line\n",
        "  tweet = re.sub('\\n+', ' ', tweet)\n",
        "  # tweet = re.sub('\\n', ' ', tweet)\n",
        "  # Remove emails\n",
        "  tweet = re.sub(r'[a-zA-Z\\d#!%\\$‘&\\+\\*–/=\\?\\^_`\\.\\{\\|\\}~]+@[a-zA-Z\\d]+\\.[a-zA-Z\\.]+', \"\", tweet)\n",
        "  # Remove punctuation\n",
        "  tweet = remove_punctuations(tweet)\n",
        "  # Remove Repeated spaces\n",
        "  tweet = re.sub(' +', ' ', tweet)\n",
        "  tweet = tweet.strip()\n",
        "  return tweet"
      ],
      "metadata": {
        "id": "HCdh4LJIiTdi"
      },
      "execution_count": null,
      "outputs": []
    },
    {
      "cell_type": "code",
      "source": [
        "def pred_title_desc_lang(id):\n",
        "  video_info = extract_youtube_info(id)\n",
        "  video_info = video_info[['snippet.title', 'snippet.description']]\n",
        "  title = clean_tweets(video_info.loc[0, 'snippet.title'])\n",
        "  title_lang = langid_predict(title)\n",
        "  desc = clean_tweets(video_info.loc[0, 'snippet.description'])\n",
        "  desc_lang = langid_predict(desc)\n",
        "  return pd.Series([title_lang, desc_lang])"
      ],
      "metadata": {
        "id": "ed9GfijGhXJv"
      },
      "execution_count": null,
      "outputs": []
    },
    {
      "cell_type": "code",
      "source": [
        "pred_title_desc_lang(id)"
      ],
      "metadata": {
        "id": "KvX_CMHliGTY"
      },
      "execution_count": null,
      "outputs": []
    },
    {
      "cell_type": "code",
      "source": [
        "data[['title_lang', 'desc_lang']] = data.apply(lambda row: pred_title_desc_lang(row['id.videoId']), axis=1)\n",
        "data"
      ],
      "metadata": {
        "id": "xi1hSLZQitng"
      },
      "execution_count": null,
      "outputs": []
    },
    {
      "cell_type": "code",
      "source": [],
      "metadata": {
        "id": "3eR3IUofjCgQ"
      },
      "execution_count": null,
      "outputs": []
    },
    {
      "cell_type": "code",
      "source": [
        "import glob\n",
        "for file_path in glob.glob('data/test/*/*.csv'):\n",
        "  data = pd.read_csv(file_path)\n",
        "  if 'title_lang' in data.columns:\n",
        "    continue\n",
        "  data[['title_lang', 'desc_lang']] = data.apply(lambda row: pred_title_desc_lang(row['id.videoId']), axis=1)\n",
        "  data.to_csv(file_path, index=False)\n",
        "  print('Finish:', file_path)\n",
        "  # break"
      ],
      "metadata": {
        "id": "lX2T8sAikAoX"
      },
      "execution_count": null,
      "outputs": []
    }
  ]
}