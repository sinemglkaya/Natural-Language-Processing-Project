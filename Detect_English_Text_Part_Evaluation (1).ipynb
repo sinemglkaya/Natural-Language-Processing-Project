{
  "nbformat": 4,
  "nbformat_minor": 0,
  "metadata": {
    "colab": {
      "provenance": []
    },
    "kernelspec": {
      "name": "python3",
      "display_name": "Python 3"
    },
    "language_info": {
      "name": "python"
    }
  },
  "cells": [
    {
      "cell_type": "code",
      "execution_count": null,
      "metadata": {
        "id": "Z9J53suLoSU7"
      },
      "outputs": [],
      "source": [
        "%cd /content/drive/MyDrive/research/PROJ201 20221/Detect English Text"
      ]
    },
    {
      "cell_type": "code",
      "source": [
        "import pandas as pd\n",
        "import glob\n",
        "from sklearn.metrics import confusion_matrix\n",
        "from sklearn.metrics import classification_report"
      ],
      "metadata": {
        "id": "Z3sN1U5MoifP"
      },
      "execution_count": null,
      "outputs": []
    },
    {
      "cell_type": "code",
      "source": [
        "for i, file_path in enumerate(glob.glob('data/test/*/*.csv')):\n",
        "  tmp = pd.read_csv(file_path)\n",
        "  if i ==0:\n",
        "    data = tmp\n",
        "  else:\n",
        "    data = pd.concat([data, tmp])\n",
        "  break"
      ],
      "metadata": {
        "id": "D0o78QWJomxA"
      },
      "execution_count": null,
      "outputs": []
    },
    {
      "cell_type": "code",
      "source": [
        "data"
      ],
      "metadata": {
        "id": "EiWwkAugsovd"
      },
      "execution_count": null,
      "outputs": []
    },
    {
      "cell_type": "code",
      "source": [
        "data = pd.read_csv('data/test/EnglishLangAndLiterature/Literary and cultural theory_videos.csv')\n",
        "data"
      ],
      "metadata": {
        "id": "c9NJnCHbsvJK"
      },
      "execution_count": null,
      "outputs": []
    },
    {
      "cell_type": "code",
      "source": [
        "cm = confusion_matrix(data['lang'], data['title_lang'],labels=[\"en\", \"non-en\"])\n",
        "print('Evaluate Prediction Video Language Based on Title')\n",
        "print(cm)\n",
        "print(classification_report(data['lang'], data['title_lang'],labels=[\"en\", \"non-en\"]))"
      ],
      "metadata": {
        "id": "0vaxxXFis5TX"
      },
      "execution_count": null,
      "outputs": []
    },
    {
      "cell_type": "code",
      "source": [
        "cm = confusion_matrix(data['lang'], data['desc_lang'],labels=[\"en\", \"non-en\"])\n",
        "print('Evaluate Prediction Video Language Based on Title')\n",
        "print(cm)\n",
        "print(classification_report(data['lang'], data['desc_lang'],labels=[\"en\", \"non-en\"]))"
      ],
      "metadata": {
        "id": "0Cppv03wtTN_"
      },
      "execution_count": null,
      "outputs": []
    }
  ]
}